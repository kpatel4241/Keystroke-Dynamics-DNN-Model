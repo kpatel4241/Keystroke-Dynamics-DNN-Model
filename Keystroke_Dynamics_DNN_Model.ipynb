{
  "nbformat": 4,
  "nbformat_minor": 0,
  "metadata": {
    "kernelspec": {
      "name": "python3",
      "display_name": "Python 3",
      "language": "python"
    },
    "language_info": {
      "name": "python",
      "version": "3.7.9",
      "mimetype": "text/x-python",
      "codemirror_mode": {
        "name": "ipython",
        "version": 3
      },
      "pygments_lexer": "ipython3",
      "nbconvert_exporter": "python",
      "file_extension": ".py"
    },
    "colab": {
      "name": "Keystroke Dynamics - DNN Model.ipynb",
      "provenance": [],
      "collapsed_sections": []
    },
    "accelerator": "GPU"
  },
  "cells": [
    {
      "cell_type": "code",
      "metadata": {
        "id": "ylCDREzjyQsf"
      },
      "source": [
        "import numpy as np\n",
        "import pandas as pd\n",
        "import matplotlib.pyplot as plt\n",
        "from keras.layers import BatchNormalization\n",
        "from IPython.display import display\n",
        "import datetime\n",
        "import os\n",
        "\n",
        "from sklearn.preprocessing import OneHotEncoder\n",
        "from sklearn.compose import ColumnTransformer"
      ],
      "execution_count": 1,
      "outputs": []
    },
    {
      "cell_type": "code",
      "metadata": {
        "colab": {
          "base_uri": "https://localhost:8080/",
          "height": 937
        },
        "id": "SAaY51m7yaup",
        "outputId": "27dda24a-a6c5-4472-ced7-2b4f41038a3c"
      },
      "source": [
        "data=pd.read_csv(r'DSL-StrongPasswordData.csv')\n",
        "\n",
        "data.info()\n",
        "display(data.head())"
      ],
      "execution_count": 65,
      "outputs": [
        {
          "output_type": "stream",
          "text": [
            "<class 'pandas.core.frame.DataFrame'>\n",
            "RangeIndex: 20400 entries, 0 to 20399\n",
            "Data columns (total 34 columns):\n",
            " #   Column           Non-Null Count  Dtype  \n",
            "---  ------           --------------  -----  \n",
            " 0   subject          20400 non-null  object \n",
            " 1   sessionIndex     20400 non-null  int64  \n",
            " 2   rep              20400 non-null  int64  \n",
            " 3   H.period         20400 non-null  float64\n",
            " 4   DD.period.t      20400 non-null  float64\n",
            " 5   UD.period.t      20400 non-null  float64\n",
            " 6   H.t              20400 non-null  float64\n",
            " 7   DD.t.i           20400 non-null  float64\n",
            " 8   UD.t.i           20400 non-null  float64\n",
            " 9   H.i              20400 non-null  float64\n",
            " 10  DD.i.e           20400 non-null  float64\n",
            " 11  UD.i.e           20400 non-null  float64\n",
            " 12  H.e              20400 non-null  float64\n",
            " 13  DD.e.five        20400 non-null  float64\n",
            " 14  UD.e.five        20400 non-null  float64\n",
            " 15  H.five           20400 non-null  float64\n",
            " 16  DD.five.Shift.r  20400 non-null  float64\n",
            " 17  UD.five.Shift.r  20400 non-null  float64\n",
            " 18  H.Shift.r        20400 non-null  float64\n",
            " 19  DD.Shift.r.o     20400 non-null  float64\n",
            " 20  UD.Shift.r.o     20400 non-null  float64\n",
            " 21  H.o              20400 non-null  float64\n",
            " 22  DD.o.a           20400 non-null  float64\n",
            " 23  UD.o.a           20400 non-null  float64\n",
            " 24  H.a              20400 non-null  float64\n",
            " 25  DD.a.n           20400 non-null  float64\n",
            " 26  UD.a.n           20400 non-null  float64\n",
            " 27  H.n              20400 non-null  float64\n",
            " 28  DD.n.l           20400 non-null  float64\n",
            " 29  UD.n.l           20400 non-null  float64\n",
            " 30  H.l              20400 non-null  float64\n",
            " 31  DD.l.Return      20400 non-null  float64\n",
            " 32  UD.l.Return      20400 non-null  float64\n",
            " 33  H.Return         20400 non-null  float64\n",
            "dtypes: float64(31), int64(2), object(1)\n",
            "memory usage: 5.3+ MB\n"
          ],
          "name": "stdout"
        },
        {
          "output_type": "display_data",
          "data": {
            "text/html": [
              "<div>\n",
              "<style scoped>\n",
              "    .dataframe tbody tr th:only-of-type {\n",
              "        vertical-align: middle;\n",
              "    }\n",
              "\n",
              "    .dataframe tbody tr th {\n",
              "        vertical-align: top;\n",
              "    }\n",
              "\n",
              "    .dataframe thead th {\n",
              "        text-align: right;\n",
              "    }\n",
              "</style>\n",
              "<table border=\"1\" class=\"dataframe\">\n",
              "  <thead>\n",
              "    <tr style=\"text-align: right;\">\n",
              "      <th></th>\n",
              "      <th>subject</th>\n",
              "      <th>sessionIndex</th>\n",
              "      <th>rep</th>\n",
              "      <th>H.period</th>\n",
              "      <th>DD.period.t</th>\n",
              "      <th>UD.period.t</th>\n",
              "      <th>H.t</th>\n",
              "      <th>DD.t.i</th>\n",
              "      <th>UD.t.i</th>\n",
              "      <th>H.i</th>\n",
              "      <th>DD.i.e</th>\n",
              "      <th>UD.i.e</th>\n",
              "      <th>H.e</th>\n",
              "      <th>DD.e.five</th>\n",
              "      <th>UD.e.five</th>\n",
              "      <th>H.five</th>\n",
              "      <th>DD.five.Shift.r</th>\n",
              "      <th>UD.five.Shift.r</th>\n",
              "      <th>H.Shift.r</th>\n",
              "      <th>DD.Shift.r.o</th>\n",
              "      <th>UD.Shift.r.o</th>\n",
              "      <th>H.o</th>\n",
              "      <th>DD.o.a</th>\n",
              "      <th>UD.o.a</th>\n",
              "      <th>H.a</th>\n",
              "      <th>DD.a.n</th>\n",
              "      <th>UD.a.n</th>\n",
              "      <th>H.n</th>\n",
              "      <th>DD.n.l</th>\n",
              "      <th>UD.n.l</th>\n",
              "      <th>H.l</th>\n",
              "      <th>DD.l.Return</th>\n",
              "      <th>UD.l.Return</th>\n",
              "      <th>H.Return</th>\n",
              "    </tr>\n",
              "  </thead>\n",
              "  <tbody>\n",
              "    <tr>\n",
              "      <th>0</th>\n",
              "      <td>s002</td>\n",
              "      <td>1</td>\n",
              "      <td>1</td>\n",
              "      <td>0.1491</td>\n",
              "      <td>0.3979</td>\n",
              "      <td>0.2488</td>\n",
              "      <td>0.1069</td>\n",
              "      <td>0.1674</td>\n",
              "      <td>0.0605</td>\n",
              "      <td>0.1169</td>\n",
              "      <td>0.2212</td>\n",
              "      <td>0.1043</td>\n",
              "      <td>0.1417</td>\n",
              "      <td>1.1885</td>\n",
              "      <td>1.0468</td>\n",
              "      <td>0.1146</td>\n",
              "      <td>1.6055</td>\n",
              "      <td>1.4909</td>\n",
              "      <td>0.1067</td>\n",
              "      <td>0.7590</td>\n",
              "      <td>0.6523</td>\n",
              "      <td>0.1016</td>\n",
              "      <td>0.2136</td>\n",
              "      <td>0.1120</td>\n",
              "      <td>0.1349</td>\n",
              "      <td>0.1484</td>\n",
              "      <td>0.0135</td>\n",
              "      <td>0.0932</td>\n",
              "      <td>0.3515</td>\n",
              "      <td>0.2583</td>\n",
              "      <td>0.1338</td>\n",
              "      <td>0.3509</td>\n",
              "      <td>0.2171</td>\n",
              "      <td>0.0742</td>\n",
              "    </tr>\n",
              "    <tr>\n",
              "      <th>1</th>\n",
              "      <td>s002</td>\n",
              "      <td>1</td>\n",
              "      <td>2</td>\n",
              "      <td>0.1111</td>\n",
              "      <td>0.3451</td>\n",
              "      <td>0.2340</td>\n",
              "      <td>0.0694</td>\n",
              "      <td>0.1283</td>\n",
              "      <td>0.0589</td>\n",
              "      <td>0.0908</td>\n",
              "      <td>0.1357</td>\n",
              "      <td>0.0449</td>\n",
              "      <td>0.0829</td>\n",
              "      <td>1.1970</td>\n",
              "      <td>1.1141</td>\n",
              "      <td>0.0689</td>\n",
              "      <td>0.7822</td>\n",
              "      <td>0.7133</td>\n",
              "      <td>0.1570</td>\n",
              "      <td>0.7877</td>\n",
              "      <td>0.6307</td>\n",
              "      <td>0.1066</td>\n",
              "      <td>0.1684</td>\n",
              "      <td>0.0618</td>\n",
              "      <td>0.1412</td>\n",
              "      <td>0.2558</td>\n",
              "      <td>0.1146</td>\n",
              "      <td>0.1146</td>\n",
              "      <td>0.2642</td>\n",
              "      <td>0.1496</td>\n",
              "      <td>0.0839</td>\n",
              "      <td>0.2756</td>\n",
              "      <td>0.1917</td>\n",
              "      <td>0.0747</td>\n",
              "    </tr>\n",
              "    <tr>\n",
              "      <th>2</th>\n",
              "      <td>s002</td>\n",
              "      <td>1</td>\n",
              "      <td>3</td>\n",
              "      <td>0.1328</td>\n",
              "      <td>0.2072</td>\n",
              "      <td>0.0744</td>\n",
              "      <td>0.0731</td>\n",
              "      <td>0.1291</td>\n",
              "      <td>0.0560</td>\n",
              "      <td>0.0821</td>\n",
              "      <td>0.1542</td>\n",
              "      <td>0.0721</td>\n",
              "      <td>0.0808</td>\n",
              "      <td>1.0408</td>\n",
              "      <td>0.9600</td>\n",
              "      <td>0.0892</td>\n",
              "      <td>0.6203</td>\n",
              "      <td>0.5311</td>\n",
              "      <td>0.1454</td>\n",
              "      <td>0.7195</td>\n",
              "      <td>0.5741</td>\n",
              "      <td>0.1365</td>\n",
              "      <td>0.2931</td>\n",
              "      <td>0.1566</td>\n",
              "      <td>0.1621</td>\n",
              "      <td>0.2332</td>\n",
              "      <td>0.0711</td>\n",
              "      <td>0.1172</td>\n",
              "      <td>0.2705</td>\n",
              "      <td>0.1533</td>\n",
              "      <td>0.1085</td>\n",
              "      <td>0.2847</td>\n",
              "      <td>0.1762</td>\n",
              "      <td>0.0945</td>\n",
              "    </tr>\n",
              "    <tr>\n",
              "      <th>3</th>\n",
              "      <td>s002</td>\n",
              "      <td>1</td>\n",
              "      <td>4</td>\n",
              "      <td>0.1291</td>\n",
              "      <td>0.2515</td>\n",
              "      <td>0.1224</td>\n",
              "      <td>0.1059</td>\n",
              "      <td>0.2495</td>\n",
              "      <td>0.1436</td>\n",
              "      <td>0.1040</td>\n",
              "      <td>0.2038</td>\n",
              "      <td>0.0998</td>\n",
              "      <td>0.0900</td>\n",
              "      <td>1.0556</td>\n",
              "      <td>0.9656</td>\n",
              "      <td>0.0913</td>\n",
              "      <td>1.2564</td>\n",
              "      <td>1.1651</td>\n",
              "      <td>0.1454</td>\n",
              "      <td>0.7550</td>\n",
              "      <td>0.6096</td>\n",
              "      <td>0.0956</td>\n",
              "      <td>0.1530</td>\n",
              "      <td>0.0574</td>\n",
              "      <td>0.1457</td>\n",
              "      <td>0.1629</td>\n",
              "      <td>0.0172</td>\n",
              "      <td>0.0866</td>\n",
              "      <td>0.2341</td>\n",
              "      <td>0.1475</td>\n",
              "      <td>0.0845</td>\n",
              "      <td>0.3232</td>\n",
              "      <td>0.2387</td>\n",
              "      <td>0.0813</td>\n",
              "    </tr>\n",
              "    <tr>\n",
              "      <th>4</th>\n",
              "      <td>s002</td>\n",
              "      <td>1</td>\n",
              "      <td>5</td>\n",
              "      <td>0.1249</td>\n",
              "      <td>0.2317</td>\n",
              "      <td>0.1068</td>\n",
              "      <td>0.0895</td>\n",
              "      <td>0.1676</td>\n",
              "      <td>0.0781</td>\n",
              "      <td>0.0903</td>\n",
              "      <td>0.1589</td>\n",
              "      <td>0.0686</td>\n",
              "      <td>0.0805</td>\n",
              "      <td>0.8629</td>\n",
              "      <td>0.7824</td>\n",
              "      <td>0.0742</td>\n",
              "      <td>0.8955</td>\n",
              "      <td>0.8213</td>\n",
              "      <td>0.1243</td>\n",
              "      <td>0.7632</td>\n",
              "      <td>0.6389</td>\n",
              "      <td>0.0430</td>\n",
              "      <td>0.1975</td>\n",
              "      <td>0.1545</td>\n",
              "      <td>0.1312</td>\n",
              "      <td>0.1582</td>\n",
              "      <td>0.0270</td>\n",
              "      <td>0.0884</td>\n",
              "      <td>0.2517</td>\n",
              "      <td>0.1633</td>\n",
              "      <td>0.0903</td>\n",
              "      <td>0.2517</td>\n",
              "      <td>0.1614</td>\n",
              "      <td>0.0818</td>\n",
              "    </tr>\n",
              "  </tbody>\n",
              "</table>\n",
              "</div>"
            ],
            "text/plain": [
              "  subject  sessionIndex  rep  ...  DD.l.Return  UD.l.Return  H.Return\n",
              "0    s002             1    1  ...       0.3509       0.2171    0.0742\n",
              "1    s002             1    2  ...       0.2756       0.1917    0.0747\n",
              "2    s002             1    3  ...       0.2847       0.1762    0.0945\n",
              "3    s002             1    4  ...       0.3232       0.2387    0.0813\n",
              "4    s002             1    5  ...       0.2517       0.1614    0.0818\n",
              "\n",
              "[5 rows x 34 columns]"
            ]
          },
          "metadata": {
            "tags": []
          }
        }
      ]
    },
    {
      "cell_type": "code",
      "metadata": {
        "trusted": true,
        "colab": {
          "base_uri": "https://localhost:8080/"
        },
        "id": "hlGPZ2aNxsPx",
        "outputId": "89e175d9-813f-4f69-dfae-ca0f42bea4b3"
      },
      "source": [
        "\n",
        "data.drop(columns=['sessionIndex','rep'],axis=1,inplace=True)\n",
        "visual_data=data\n",
        "\n",
        "\n",
        "ct=ColumnTransformer(transformers=[('encoder',OneHotEncoder(),[0])],remainder='passthrough')\n",
        "unique_cols=data['subject'].nunique()\n",
        "\n",
        "data=np.array(ct.fit_transform(data))\n",
        "X=data[:,unique_cols:]\n",
        "y=data[:,:unique_cols]\n",
        "print(y.shape)\n",
        "\n",
        "\n",
        "#splitting the dataset into train and test set\n",
        "from sklearn.model_selection import train_test_split\n",
        "X_train, X_test, y_train, y_test = train_test_split(X, y, test_size=0.1, random_state=1)\n",
        "\n",
        "#applying feature scaling\n",
        "from sklearn.preprocessing import StandardScaler\n",
        "sc=StandardScaler()\n",
        "X_train=sc.fit_transform(X_train)\n",
        "\n",
        "X_test=sc.transform(X_test)\n",
        "\n"
      ],
      "execution_count": 66,
      "outputs": [
        {
          "output_type": "stream",
          "text": [
            "(20400, 51)\n"
          ],
          "name": "stdout"
        }
      ]
    },
    {
      "cell_type": "code",
      "metadata": {
        "trusted": true,
        "id": "imJkKCVTxsP0"
      },
      "source": [
        "import tensorflow as tf\n",
        "\n",
        "\n",
        "model = tf.keras.models.Sequential()\n",
        "\n",
        "#cnn.add(tf.keras.layers.Flatten())\n",
        "\n",
        "model.add(tf.keras.layers.Dense(units=256,activation='relu'))\n",
        "model.add(BatchNormalization())\n",
        "\n",
        "model.add(tf.keras.layers.Dense(units=512,activation='relu'))\n",
        "model.add(BatchNormalization())\n",
        "\n",
        "model.add(tf.keras.layers.Dense(units=1024,activation='relu'))\n",
        "model.add(BatchNormalization())\n",
        "\n",
        "model.add(tf.keras.layers.Dense(units=512,activation='relu'))\n",
        "\n",
        "model.add(tf.keras.layers.Dense(units=unique_cols,activation='sigmoid'))\n",
        "\n",
        "model.compile(optimizer='adam',loss='binary_crossentropy',metrics=['accuracy'])"
      ],
      "execution_count": 67,
      "outputs": []
    },
    {
      "cell_type": "code",
      "metadata": {
        "trusted": true,
        "colab": {
          "base_uri": "https://localhost:8080/"
        },
        "id": "xnqznolCxsP1",
        "outputId": "0b7c001f-beb9-4abd-e64f-deae94063d30"
      },
      "source": [
        "batch_size = 32\n",
        "epochs=50\n",
        "\n",
        "logs_base_dir = \"./logs\"\n",
        "logdir = os.path.join(logs_base_dir, datetime.datetime.now().strftime(\"%Y%m%d-%H%M%S\"))\n",
        "tensorboard_callback = tf.keras.callbacks.TensorBoard(logdir)\n",
        "\n",
        "\n",
        "hist = model.fit(X_train, y_train, epochs = epochs, batch_size=batch_size, validation_split = 0.1, verbose = 1)"
      ],
      "execution_count": 69,
      "outputs": [
        {
          "output_type": "stream",
          "text": [
            "Epoch 1/50\n",
            "517/517 [==============================] - 4s 5ms/step - loss: 0.0723 - accuracy: 0.6295 - val_loss: 0.0194 - val_accuracy: 0.8475\n",
            "Epoch 2/50\n",
            "517/517 [==============================] - 2s 4ms/step - loss: 0.0178 - accuracy: 0.8552 - val_loss: 0.0158 - val_accuracy: 0.8791\n",
            "Epoch 3/50\n",
            "517/517 [==============================] - 2s 4ms/step - loss: 0.0130 - accuracy: 0.8947 - val_loss: 0.0137 - val_accuracy: 0.8960\n",
            "Epoch 4/50\n",
            "517/517 [==============================] - 2s 5ms/step - loss: 0.0109 - accuracy: 0.9170 - val_loss: 0.0112 - val_accuracy: 0.9161\n",
            "Epoch 5/50\n",
            "517/517 [==============================] - 3s 5ms/step - loss: 0.0089 - accuracy: 0.9310 - val_loss: 0.0133 - val_accuracy: 0.8992\n",
            "Epoch 6/50\n",
            "517/517 [==============================] - 2s 4ms/step - loss: 0.0082 - accuracy: 0.9378 - val_loss: 0.0115 - val_accuracy: 0.9112\n",
            "Epoch 7/50\n",
            "517/517 [==============================] - 2s 4ms/step - loss: 0.0072 - accuracy: 0.9472 - val_loss: 0.0110 - val_accuracy: 0.9199\n",
            "Epoch 8/50\n",
            "517/517 [==============================] - 3s 5ms/step - loss: 0.0069 - accuracy: 0.9514 - val_loss: 0.0105 - val_accuracy: 0.9199\n",
            "Epoch 9/50\n",
            "517/517 [==============================] - 2s 5ms/step - loss: 0.0054 - accuracy: 0.9626 - val_loss: 0.0111 - val_accuracy: 0.9276\n",
            "Epoch 10/50\n",
            "517/517 [==============================] - 2s 5ms/step - loss: 0.0046 - accuracy: 0.9706 - val_loss: 0.0112 - val_accuracy: 0.9227\n",
            "Epoch 11/50\n",
            "517/517 [==============================] - 3s 5ms/step - loss: 0.0050 - accuracy: 0.9664 - val_loss: 0.0125 - val_accuracy: 0.9096\n",
            "Epoch 12/50\n",
            "517/517 [==============================] - 2s 5ms/step - loss: 0.0045 - accuracy: 0.9713 - val_loss: 0.0105 - val_accuracy: 0.9276\n",
            "Epoch 13/50\n",
            "517/517 [==============================] - 3s 5ms/step - loss: 0.0039 - accuracy: 0.9753 - val_loss: 0.0119 - val_accuracy: 0.9210\n",
            "Epoch 14/50\n",
            "517/517 [==============================] - 3s 5ms/step - loss: 0.0045 - accuracy: 0.9702 - val_loss: 0.0112 - val_accuracy: 0.9188\n",
            "Epoch 15/50\n",
            "517/517 [==============================] - 2s 4ms/step - loss: 0.0038 - accuracy: 0.9764 - val_loss: 0.0125 - val_accuracy: 0.9199\n",
            "Epoch 16/50\n",
            "517/517 [==============================] - 2s 5ms/step - loss: 0.0035 - accuracy: 0.9773 - val_loss: 0.0114 - val_accuracy: 0.9265\n",
            "Epoch 17/50\n",
            "517/517 [==============================] - 2s 4ms/step - loss: 0.0035 - accuracy: 0.9788 - val_loss: 0.0124 - val_accuracy: 0.9199\n",
            "Epoch 18/50\n",
            "517/517 [==============================] - 2s 4ms/step - loss: 0.0030 - accuracy: 0.9821 - val_loss: 0.0112 - val_accuracy: 0.9243\n",
            "Epoch 19/50\n",
            "517/517 [==============================] - 2s 4ms/step - loss: 0.0038 - accuracy: 0.9764 - val_loss: 0.0111 - val_accuracy: 0.9243\n",
            "Epoch 20/50\n",
            "517/517 [==============================] - 2s 4ms/step - loss: 0.0026 - accuracy: 0.9839 - val_loss: 0.0123 - val_accuracy: 0.9237\n",
            "Epoch 21/50\n",
            "517/517 [==============================] - 2s 4ms/step - loss: 0.0034 - accuracy: 0.9786 - val_loss: 0.0133 - val_accuracy: 0.9232\n",
            "Epoch 22/50\n",
            "517/517 [==============================] - 2s 5ms/step - loss: 0.0032 - accuracy: 0.9798 - val_loss: 0.0133 - val_accuracy: 0.9232\n",
            "Epoch 23/50\n",
            "517/517 [==============================] - 2s 5ms/step - loss: 0.0024 - accuracy: 0.9859 - val_loss: 0.0110 - val_accuracy: 0.9346\n",
            "Epoch 24/50\n",
            "517/517 [==============================] - 2s 5ms/step - loss: 0.0026 - accuracy: 0.9865 - val_loss: 0.0118 - val_accuracy: 0.9232\n",
            "Epoch 25/50\n",
            "517/517 [==============================] - 3s 5ms/step - loss: 0.0023 - accuracy: 0.9869 - val_loss: 0.0125 - val_accuracy: 0.9254\n",
            "Epoch 26/50\n",
            "517/517 [==============================] - 3s 5ms/step - loss: 0.0023 - accuracy: 0.9871 - val_loss: 0.0131 - val_accuracy: 0.9265\n",
            "Epoch 27/50\n",
            "517/517 [==============================] - 2s 4ms/step - loss: 0.0025 - accuracy: 0.9862 - val_loss: 0.0136 - val_accuracy: 0.9341\n",
            "Epoch 28/50\n",
            "517/517 [==============================] - 2s 5ms/step - loss: 0.0026 - accuracy: 0.9850 - val_loss: 0.0121 - val_accuracy: 0.9401\n",
            "Epoch 29/50\n",
            "517/517 [==============================] - 2s 4ms/step - loss: 0.0018 - accuracy: 0.9903 - val_loss: 0.0127 - val_accuracy: 0.9297\n",
            "Epoch 30/50\n",
            "517/517 [==============================] - 2s 4ms/step - loss: 0.0020 - accuracy: 0.9877 - val_loss: 0.0130 - val_accuracy: 0.9308\n",
            "Epoch 31/50\n",
            "517/517 [==============================] - 2s 4ms/step - loss: 0.0021 - accuracy: 0.9885 - val_loss: 0.0131 - val_accuracy: 0.9308\n",
            "Epoch 32/50\n",
            "517/517 [==============================] - 2s 4ms/step - loss: 0.0028 - accuracy: 0.9836 - val_loss: 0.0135 - val_accuracy: 0.9216\n",
            "Epoch 33/50\n",
            "517/517 [==============================] - 2s 5ms/step - loss: 0.0016 - accuracy: 0.9922 - val_loss: 0.0146 - val_accuracy: 0.9216\n",
            "Epoch 34/50\n",
            "517/517 [==============================] - 2s 5ms/step - loss: 0.0022 - accuracy: 0.9865 - val_loss: 0.0139 - val_accuracy: 0.9183\n",
            "Epoch 35/50\n",
            "517/517 [==============================] - 3s 5ms/step - loss: 0.0025 - accuracy: 0.9859 - val_loss: 0.0127 - val_accuracy: 0.9308\n",
            "Epoch 36/50\n",
            "517/517 [==============================] - 3s 5ms/step - loss: 0.0021 - accuracy: 0.9878 - val_loss: 0.0138 - val_accuracy: 0.9352\n",
            "Epoch 37/50\n",
            "517/517 [==============================] - 3s 5ms/step - loss: 0.0021 - accuracy: 0.9884 - val_loss: 0.0136 - val_accuracy: 0.9341\n",
            "Epoch 38/50\n",
            "517/517 [==============================] - 2s 5ms/step - loss: 0.0013 - accuracy: 0.9925 - val_loss: 0.0132 - val_accuracy: 0.9237\n",
            "Epoch 39/50\n",
            "517/517 [==============================] - 2s 5ms/step - loss: 0.0019 - accuracy: 0.9913 - val_loss: 0.0132 - val_accuracy: 0.9346\n",
            "Epoch 40/50\n",
            "517/517 [==============================] - 2s 5ms/step - loss: 0.0020 - accuracy: 0.9891 - val_loss: 0.0139 - val_accuracy: 0.9314\n",
            "Epoch 41/50\n",
            "517/517 [==============================] - 3s 5ms/step - loss: 0.0019 - accuracy: 0.9895 - val_loss: 0.0140 - val_accuracy: 0.9346\n",
            "Epoch 42/50\n",
            "517/517 [==============================] - 2s 5ms/step - loss: 0.0015 - accuracy: 0.9921 - val_loss: 0.0143 - val_accuracy: 0.9330\n",
            "Epoch 43/50\n",
            "517/517 [==============================] - 2s 5ms/step - loss: 0.0015 - accuracy: 0.9914 - val_loss: 0.0148 - val_accuracy: 0.9308\n",
            "Epoch 44/50\n",
            "517/517 [==============================] - 2s 5ms/step - loss: 0.0016 - accuracy: 0.9914 - val_loss: 0.0153 - val_accuracy: 0.9243\n",
            "Epoch 45/50\n",
            "517/517 [==============================] - 3s 5ms/step - loss: 0.0013 - accuracy: 0.9920 - val_loss: 0.0170 - val_accuracy: 0.9276\n",
            "Epoch 46/50\n",
            "517/517 [==============================] - 2s 4ms/step - loss: 0.0021 - accuracy: 0.9892 - val_loss: 0.0143 - val_accuracy: 0.9281\n",
            "Epoch 47/50\n",
            "517/517 [==============================] - 3s 5ms/step - loss: 0.0018 - accuracy: 0.9896 - val_loss: 0.0137 - val_accuracy: 0.9346\n",
            "Epoch 48/50\n",
            "517/517 [==============================] - 2s 5ms/step - loss: 0.0016 - accuracy: 0.9916 - val_loss: 0.0149 - val_accuracy: 0.9276\n",
            "Epoch 49/50\n",
            "517/517 [==============================] - 2s 5ms/step - loss: 0.0019 - accuracy: 0.9894 - val_loss: 0.0152 - val_accuracy: 0.9308\n",
            "Epoch 50/50\n",
            "517/517 [==============================] - 2s 4ms/step - loss: 0.0015 - accuracy: 0.9911 - val_loss: 0.0153 - val_accuracy: 0.9352\n"
          ],
          "name": "stdout"
        }
      ]
    },
    {
      "cell_type": "code",
      "metadata": {
        "trusted": true,
        "colab": {
          "base_uri": "https://localhost:8080/"
        },
        "id": "EFFDVYSQxsP1",
        "outputId": "686c4696-fe3f-4123-eb7d-b983fa12ca45"
      },
      "source": [
        "model.summary()"
      ],
      "execution_count": 70,
      "outputs": [
        {
          "output_type": "stream",
          "text": [
            "Model: \"sequential_7\"\n",
            "_________________________________________________________________\n",
            "Layer (type)                 Output Shape              Param #   \n",
            "=================================================================\n",
            "dense_35 (Dense)             (None, 256)               8192      \n",
            "_________________________________________________________________\n",
            "batch_normalization_21 (Batc (None, 256)               1024      \n",
            "_________________________________________________________________\n",
            "dense_36 (Dense)             (None, 512)               131584    \n",
            "_________________________________________________________________\n",
            "batch_normalization_22 (Batc (None, 512)               2048      \n",
            "_________________________________________________________________\n",
            "dense_37 (Dense)             (None, 1024)              525312    \n",
            "_________________________________________________________________\n",
            "batch_normalization_23 (Batc (None, 1024)              4096      \n",
            "_________________________________________________________________\n",
            "dense_38 (Dense)             (None, 512)               524800    \n",
            "_________________________________________________________________\n",
            "dense_39 (Dense)             (None, 51)                26163     \n",
            "=================================================================\n",
            "Total params: 1,223,219\n",
            "Trainable params: 1,219,635\n",
            "Non-trainable params: 3,584\n",
            "_________________________________________________________________\n"
          ],
          "name": "stdout"
        }
      ]
    },
    {
      "cell_type": "code",
      "metadata": {
        "id": "6zZx8Bdr4Z9f"
      },
      "source": [
        "model.save('bestModel.h5')\n",
        "model.load_weights('bestModel.h5')"
      ],
      "execution_count": 71,
      "outputs": []
    },
    {
      "cell_type": "code",
      "metadata": {
        "trusted": true,
        "colab": {
          "base_uri": "https://localhost:8080/"
        },
        "id": "DanawuGcxsP1",
        "outputId": "14207d4f-4779-43c8-d7f1-fcddbef52efd"
      },
      "source": [
        "#print(hist.history['loss'])\n",
        "\n",
        "score,acc = model.evaluate(X_test, y_test, verbose = 1, batch_size = batch_size)\n",
        "print(\"score: \"+str(score)+\" accuracy: \"+str(acc))"
      ],
      "execution_count": 72,
      "outputs": [
        {
          "output_type": "stream",
          "text": [
            "64/64 [==============================] - 0s 2ms/step - loss: 0.0143 - accuracy: 0.9382\n",
            "score: 0.014274440705776215 accuracy: 0.9382352828979492\n"
          ],
          "name": "stdout"
        }
      ]
    },
    {
      "cell_type": "code",
      "metadata": {
        "trusted": true,
        "id": "blxTC-GLxsP2"
      },
      "source": [
        "train_loss = hist.history['loss']\n",
        "val_loss   = hist.history['val_loss']\n",
        "acc = hist.history['accuracy']\n",
        "val_acc = hist.history['val_accuracy']"
      ],
      "execution_count": 73,
      "outputs": []
    },
    {
      "cell_type": "code",
      "metadata": {
        "trusted": true,
        "colab": {
          "base_uri": "https://localhost:8080/",
          "height": 313
        },
        "id": "wHwve1JZxsP3",
        "outputId": "5397869e-6dea-4925-df95-d0fb0351986b"
      },
      "source": [
        "plt.plot(range(1,epochs+1),train_loss)\n",
        "plt.plot(range(1,epochs+1),val_loss)\n",
        "plt.title('Losses vs Epochs')\n",
        "plt.xlabel('Epoch Number')\n",
        "plt.ylabel('Losses')\n",
        "plt.legend([\"Training loss\", \"Validation loss\"])"
      ],
      "execution_count": 74,
      "outputs": [
        {
          "output_type": "execute_result",
          "data": {
            "text/plain": [
              "<matplotlib.legend.Legend at 0x7fed68c84fd0>"
            ]
          },
          "metadata": {
            "tags": []
          },
          "execution_count": 74
        },
        {
          "output_type": "display_data",
          "data": {
            "image/png": "[encoded data removed]",
            "text/plain": [
              "<Figure size 432x288 with 1 Axes>"
            ]
          },
          "metadata": {
            "tags": [],
            "needs_background": "light"
          }
        }
      ]
    },
    {
      "cell_type": "code",
      "metadata": {
        "trusted": true,
        "colab": {
          "base_uri": "https://localhost:8080/",
          "height": 313
        },
        "id": "RWiz1FSOxsP3",
        "outputId": "a31c9fab-2e8e-4480-c6d5-990da04593e9"
      },
      "source": [
        "plt.plot(range(1,epochs+1),acc)\n",
        "plt.plot(range(1,epochs+1),val_acc)\n",
        "plt.title('Accuracies vs Epochs')\n",
        "plt.xlabel('Epoch Number')\n",
        "plt.ylabel('Accuracy')\n",
        "plt.legend([\"Training accuracy\", \"Validation accuracy\"])"
      ],
      "execution_count": 75,
      "outputs": [
        {
          "output_type": "execute_result",
          "data": {
            "text/plain": [
              "<matplotlib.legend.Legend at 0x7fed6837d9d0>"
            ]
          },
          "metadata": {
            "tags": []
          },
          "execution_count": 75
        },
        {
          "output_type": "display_data",
          "data": {
            "image/png": "[encoded data removed]",
            "text/plain": [
              "<Figure size 432x288 with 1 Axes>"
            ]
          },
          "metadata": {
            "tags": [],
            "needs_background": "light"
          }
        }
      ]
    },
    {
      "cell_type": "code",
      "metadata": {
        "trusted": true,
        "colab": {
          "base_uri": "https://localhost:8080/"
        },
        "id": "GsPJXapDxsP4",
        "outputId": "7937517c-8dcc-42e7-da54-ae9557f8518c"
      },
      "source": [
        "y_pred=model.predict(X_test)\n",
        "'''as the softmax outputs probability of each class there is need for conversion from  probability to 0s and 1s\n",
        "where the class corresponding to highest probability will be set to 1 and the rest to 0s.\n",
        "y_pred is an array of probabilities where y_pred_binary is an array of 0s and 1s.'''\n",
        "\n",
        "\n",
        "y_pred_binary=np.zeros(shape=y_pred.shape)\n",
        "examples=y_pred.shape[0]\n",
        "print(examples)\n",
        "for i in range(examples):\n",
        "    index=np.argmax(y_pred[i])\n",
        "    y_pred_binary[i][index]=1\n"
      ],
      "execution_count": 76,
      "outputs": [
        {
          "output_type": "stream",
          "text": [
            "2040\n"
          ],
          "name": "stdout"
        }
      ]
    },
    {
      "cell_type": "code",
      "metadata": {
        "trusted": true,
        "colab": {
          "base_uri": "https://localhost:8080/"
        },
        "id": "RbPH8GcwxsP4",
        "outputId": "c0c1c09c-ef4c-4b95-b02d-c315d8b80da3"
      },
      "source": [
        "data"
      ],
      "execution_count": 77,
      "outputs": [
        {
          "output_type": "execute_result",
          "data": {
            "text/plain": [
              "array([[1.    , 0.    , 0.    , ..., 0.3509, 0.2171, 0.0742],\n",
              "       [1.    , 0.    , 0.    , ..., 0.2756, 0.1917, 0.0747],\n",
              "       [1.    , 0.    , 0.    , ..., 0.2847, 0.1762, 0.0945],\n",
              "       ...,\n",
              "       [0.    , 0.    , 0.    , ..., 0.2017, 0.0983, 0.0905],\n",
              "       [0.    , 0.    , 0.    , ..., 0.1917, 0.0938, 0.0931],\n",
              "       [0.    , 0.    , 0.    , ..., 0.1993, 0.1186, 0.1018]])"
            ]
          },
          "metadata": {
            "tags": []
          },
          "execution_count": 77
        }
      ]
    },
    {
      "cell_type": "code",
      "metadata": {
        "id": "MnJ0aHx34ukV"
      },
      "source": [
        "# Load the extension and start TensorBoard\n",
        "%load_ext tensorboard\n",
        "%tensorboard --logdir logs"
      ],
      "execution_count": null,
      "outputs": []
    }
  ]
}